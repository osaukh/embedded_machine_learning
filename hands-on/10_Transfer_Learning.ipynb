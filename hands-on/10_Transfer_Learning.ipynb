{
  "nbformat": 4,
  "nbformat_minor": 0,
  "metadata": {
    "colab": {
      "provenance": []
    },
    "kernelspec": {
      "display_name": "Python 3",
      "name": "python3"
    }
  },
  "cells": [
    {
      "cell_type": "markdown",
      "metadata": {
        "id": "pO4-CY_TCZZS"
      },
      "source": [
        "# Transfer Learning with Full and Last Layer Update"
      ]
    },
    {
      "cell_type": "markdown",
      "metadata": {
        "id": "e47DtM0dNqt0"
      },
      "source": [
        "This hands-on trains a neural network model to classify images of clothing, like sneakers and shirts, from the [Fashion MNIST](https://github.com/zalandoresearch/fashion-mnist) dataset.\n",
        "\n",
        "**Goals:**\n",
        "\n",
        "*   Train a vanilla Fashion MNIST classifier. Analyse its performance on a dataset which suffers from a distribution shift. We will consider rotation transformation to simulate distribution shift in input data.\n",
        "*   Use transfer learning to light re-train a trained model to adapt it to a different degree than it was initially trained for.\n",
        "*   Use transfer learning to re-train only the last layers of the model to adapt it to a different degree than it was initially trained for.\n",
        "*   Train a joint model for all degrees. Compare the results.\n",
        "\n"
      ]
    },
    {
      "cell_type": "code",
      "metadata": {
        "id": "pkbNInySgYsi"
      },
      "source": [
        "import tensorflow as tf\n",
        "from tensorflow import keras\n",
        "\n",
        "import datetime\n",
        "\n",
        "import math\n",
        "import numpy as np\n",
        "import random\n",
        "import matplotlib.pyplot as plt\n",
        "plt.style.use('default')\n",
        "\n",
        "random.seed(42)\n",
        "np.random.seed(42)\n",
        "\n",
        "print(tf.__version__)"
      ],
      "execution_count": null,
      "outputs": []
    },
    {
      "cell_type": "markdown",
      "metadata": {
        "id": "I6RoIouqKuq_"
      },
      "source": [
        "Fashion MNIST dataset which contains 70,000 grayscale images in 10 categories. The images show individual articles of clothing at low resolution (28 by 28 pixels). We use Fashion MNIST because it's a slightly more challenging problem than regular MNIST. Both datasets are relatively small and are used to verify that an algorithm works as expected. They're good starting points to test and debug code.\n",
        "\n",
        "We will use 60,000 images to train the network and 10,000 images to evaluate how accurately the network learned to classify images. You can access the Fashion MNIST directly from TensorFlow, just import and load the data.\n",
        "\n",
        "Loading the dataset returns four NumPy arrays:\n",
        "\n",
        "*   The train_images and train_labels arrays are the training set—the data the model uses to learn.\n",
        "*   The model is tested against the test set, the test_images, and test_labels arrays.\n",
        "\n",
        "The images are 28x28 NumPy arrays, with pixel values ranging between 0 and 255. The labels are an array of integers, ranging from 0 to 9.\n",
        "\n",
        "Each image is mapped to a single label. Since the class names are not included with the dataset, store them here to use later when plotting the images."
      ]
    },
    {
      "cell_type": "code",
      "metadata": {
        "id": "ludfxbNIaegy"
      },
      "source": [
        "fashion_mnist = keras.datasets.fashion_mnist\n",
        "\n",
        "(train_images, train_labels), (test_images, test_labels) = fashion_mnist.load_data()\n",
        "\n",
        "class_names = ['T-shirt/top', 'Trouser', 'Pullover', 'Dress', 'Coat',\n",
        "               'Sandal', 'Shirt', 'Sneaker', 'Bag', 'Ankle boot']"
      ],
      "execution_count": null,
      "outputs": []
    },
    {
      "cell_type": "markdown",
      "metadata": {
        "id": "xyQASXgYMg-W"
      },
      "source": [
        "**Exercise:** Explore the format of the dataset before training the model."
      ]
    },
    {
      "cell_type": "code",
      "metadata": {
        "id": "6vX8Uq5Jm11H"
      },
      "source": [
        "### START CODE HERE ###\n",
        "\n",
        "### END CODE HERE ###"
      ],
      "execution_count": null,
      "outputs": []
    },
    {
      "cell_type": "markdown",
      "metadata": {
        "id": "9gM3r-rbM5gO"
      },
      "source": [
        "**Exercise:** Display the first 25 images from the training set and display the class name below each image. Verify that the data is in the correct format and we're ready to build and train the network."
      ]
    },
    {
      "cell_type": "code",
      "metadata": {
        "id": "YAVblTq0nJtu"
      },
      "source": [
        "### START CODE HERE ###\n",
        "\n",
        "### END CODE HERE ###"
      ],
      "execution_count": null,
      "outputs": []
    },
    {
      "cell_type": "markdown",
      "metadata": {
        "id": "bEF8WJbmMul4"
      },
      "source": [
        "The data must be preprocessed before training the network. If you inspect the first image in the training set, you will see that the pixel values fall in the range of 0 to 255."
      ]
    },
    {
      "cell_type": "code",
      "metadata": {
        "id": "uFlyHnRAnR-u"
      },
      "source": [
        "print(train_images[0])"
      ],
      "execution_count": null,
      "outputs": []
    },
    {
      "cell_type": "markdown",
      "metadata": {
        "id": "5QisaTdJM0ts"
      },
      "source": [
        "**Exercise:** Scale these values to a range of 0 to 1 before feeding to the neural network model. For this, you need to divide the values by 255. It's important that the training set and the testing set are preprocessed in the same way:"
      ]
    },
    {
      "cell_type": "code",
      "metadata": {
        "id": "nhAdRvEyouZS"
      },
      "source": [
        "### START CODE HERE ###\n",
        "\n",
        "### END CODE HERE ###"
      ],
      "execution_count": null,
      "outputs": []
    },
    {
      "cell_type": "markdown",
      "metadata": {
        "id": "z_DWocG5sJG0"
      },
      "source": [
        "## Build a model"
      ]
    },
    {
      "cell_type": "markdown",
      "metadata": {
        "id": "2HYR5Zh_NN8X"
      },
      "source": [
        "Building the neural network requires configuring the layers of the model, then compiling the model. Most of deep learning consists of chaining together simple layers. Most layers, like `tf.keras.layers.Dense`, have parameters that are learned during training."
      ]
    },
    {
      "cell_type": "code",
      "metadata": {
        "id": "9jPA_MWWqta3"
      },
      "source": [
        "model = keras.Sequential([\n",
        "  keras.layers.Conv2D(6, (5, 5), padding='same', activation='relu',kernel_initializer='he_uniform', input_shape=(28, 28,1)),\n",
        "  keras.layers.MaxPooling2D(pool_size=(2, 2)),\n",
        "  keras.layers.Conv2D(32, (5, 5), kernel_initializer='he_uniform', activation='relu'),\n",
        "  keras.layers.Dropout(0.1),\n",
        "  keras.layers.MaxPooling2D(pool_size=(2, 2)),\n",
        "  # keras.layers.Dropout(0.1, name=\"baselayer\"),\n",
        "  keras.layers.Dropout(0.1),\n",
        "  keras.layers.Conv2D(120, (5, 5), kernel_initializer='he_uniform', activation='relu'),\n",
        "  keras.layers.Flatten(),\n",
        "  keras.layers.Dense(84, activation='relu', name=\"baselayer\"),\n",
        "  keras.layers.Dense(10, activation=tf.nn.softmax)\n",
        "])"
      ],
      "execution_count": null,
      "outputs": []
    },
    {
      "cell_type": "markdown",
      "metadata": {
        "id": "fRvaQaS9N2DV"
      },
      "source": [
        "Before the model is ready for training, it needs a few more settings. These are added during the model's compile step:\n",
        "\n",
        "*   Loss function = measures how accurate the model is during training. We want to minimize this function to \"steer\" the model in the right direction.\n",
        "*   Optimizer = this is how the model is updated based on the data it sees and its loss function.\n",
        "*   Metrics = used to monitor the training and testing steps. The following example uses `accuracy`, the fraction of the images that are correctly classified.\n",
        "\n",
        "**Exercise:** Print model summary."
      ]
    },
    {
      "cell_type": "code",
      "metadata": {
        "id": "-AX506a2v5sw"
      },
      "source": [
        "model.compile(optimizer='adam', loss='sparse_categorical_crossentropy', metrics=['accuracy'])\n",
        "\n",
        "### START CODE HERE ###\n",
        "\n",
        "### END CODE HERE ###"
      ],
      "execution_count": null,
      "outputs": []
    },
    {
      "cell_type": "markdown",
      "metadata": {
        "id": "7COAJaIuOQbe"
      },
      "source": [
        "Training the neural network model requires the following steps:\n",
        "\n",
        "*   Feed the training data to the model — in this example, the train_images and train_labels arrays.\n",
        "*   The model learns to associate images and labels.\n",
        "*   We ask the model to make predictions about a test set—in this example, the test_images array. We verify that the predictions match the labels from the test_labels array.\n",
        "\n",
        "**Exercise:** To start training, call the `model.fit` method—the model is \"fit\" to the training data. Use `epochs`=10, `validation_split`=0.1 and `batch_size`=32."
      ]
    },
    {
      "cell_type": "code",
      "metadata": {
        "id": "zJ2EUTX45SJ0"
      },
      "source": [
        "### START CODE HERE ###\n",
        "history = None\n",
        "### END CODE HERE ###"
      ],
      "execution_count": null,
      "outputs": []
    },
    {
      "cell_type": "markdown",
      "metadata": {
        "id": "2etMatyu5bjt"
      },
      "source": [
        "## Evaluate Model"
      ]
    },
    {
      "cell_type": "code",
      "metadata": {
        "id": "_fhTs3V-GeOJ"
      },
      "source": [
        "plt.rcParams[\"figure.figsize\"] = (6,4)\n",
        "\n",
        "# graph the loss, the model above is configure to use \"mean squared error\" as the loss function\n",
        "loss = history.history['loss']\n",
        "val_loss = history.history['val_loss']\n",
        "epochs = range(1, len(loss) + 1)\n",
        "plt.plot(epochs, loss, 'g-', label='Training loss')\n",
        "plt.plot(epochs, val_loss, 'b-', label='Validation loss')\n",
        "plt.title('Training and validation loss')\n",
        "plt.xlabel('Epochs')\n",
        "plt.ylabel('Loss')\n",
        "plt.legend()\n",
        "plt.show()"
      ],
      "execution_count": null,
      "outputs": []
    },
    {
      "cell_type": "code",
      "metadata": {
        "id": "aqiY9W1AKnAg"
      },
      "source": [
        "plt.rcParams[\"figure.figsize\"] = (6,4)\n",
        "accuracy = history.history['accuracy']\n",
        "val_accuracy = history.history['val_accuracy']\n",
        "plt.plot(epochs[:], accuracy[:], 'g-', label='Training accuracy')\n",
        "plt.plot(epochs[:], val_accuracy[:], 'b-', label='Validation accuracy')\n",
        "plt.title('Training and validation accuracy')\n",
        "plt.xlabel('Epochs')\n",
        "plt.ylabel('MAE')\n",
        "plt.legend()\n",
        "plt.show()\n"
      ],
      "execution_count": null,
      "outputs": []
    },
    {
      "cell_type": "markdown",
      "metadata": {
        "id": "u0pZOFJFQ_iZ"
      },
      "source": [
        "**Exercise:** Compute how the model performs on the test dataset."
      ]
    },
    {
      "cell_type": "code",
      "metadata": {
        "id": "GTyjpFXP5WnS"
      },
      "source": [
        "### START CODE HERE ###\n",
        "\n",
        "### END CODE HERE ###"
      ],
      "execution_count": null,
      "outputs": []
    },
    {
      "cell_type": "code",
      "metadata": {
        "id": "UPb7YSc35qqC"
      },
      "source": [
        "plt.rcParams[\"figure.figsize\"] = (20,4)\n",
        "\n",
        "# use the model to predict the test inputs\n",
        "predictions = model.predict(test_images)\n",
        "\n",
        "# print the predictions and the expected ouputs\n",
        "print(\"predictions =\\n\", np.argmax(predictions, axis=1))\n",
        "print(\"actual =\\n\", test_labels)\n",
        "\n",
        "# Plot the predictions along with to the test data\n",
        "plt.title('Training data predicted vs actual values')\n",
        "plt.plot(test_labels[:300], 'bs', label='Actual')\n",
        "plt.plot(np.argmax(predictions[:300], axis=1), 'ro', label='Predicted')\n",
        "plt.show()"
      ],
      "execution_count": null,
      "outputs": []
    },
    {
      "cell_type": "markdown",
      "metadata": {
        "id": "rwkaSaaERF09"
      },
      "source": [
        "Plot confusion matrix"
      ]
    },
    {
      "cell_type": "code",
      "metadata": {
        "id": "WHiQd9FWP9RE"
      },
      "source": [
        "confusion = tf.math.confusion_matrix(labels=tf.constant(test_labels.flatten()),\n",
        "                                       predictions=tf.constant(np.argmax(predictions, axis=1)),\n",
        "                                       num_classes=len(class_names))\n",
        "\n",
        "import seaborn as sns\n",
        "plt.figure(figsize=(6, 4))\n",
        "sns.heatmap(confusion,\n",
        "            xticklabels=class_names,\n",
        "            yticklabels=class_names,\n",
        "            annot=True, cmap='Blues', fmt='g')\n",
        "plt.xlabel('Prediction')\n",
        "plt.ylabel('Label')\n",
        "plt.show()\n",
        "\n",
        "print(\"Loss {}, Accuracy {}\".format(test_loss, test_acc))"
      ],
      "execution_count": null,
      "outputs": []
    },
    {
      "cell_type": "markdown",
      "metadata": {
        "id": "2mZ1meDAUIY1"
      },
      "source": [
        "## Rotate Dataset"
      ]
    },
    {
      "cell_type": "code",
      "metadata": {
        "id": "pGyF_VvmUNnc"
      },
      "source": [
        "!pip install -U tensorflow-addons"
      ],
      "execution_count": null,
      "outputs": []
    },
    {
      "cell_type": "markdown",
      "metadata": {
        "id": "LYMYieH8PWhW"
      },
      "source": [
        "**Exercise:** Plot an image from the test set before and after rotation.\n",
        "\n",
        "**Exercise:** Compute model accuracy in the test set before and after rotation."
      ]
    },
    {
      "cell_type": "code",
      "metadata": {
        "id": "1wvOIUlZUSH-"
      },
      "source": [
        "import tensorflow_addons as tfa\n",
        "\n",
        "def rotate_dataset(dataset, degree):\n",
        "  # need to reshape to match the expected NHWC input format. See: https://www.tensorflow.org/addons/api_docs/python/tfa/image/rotate\n",
        "  result = tfa.image.rotate(dataset.reshape(dataset.shape[0], dataset.shape[1], dataset.shape[2], 1),\n",
        "                                          tf.constant(degree * math.pi / 180), interpolation= \"nearest\")\n",
        "  result = result.numpy().reshape(dataset.shape[0], dataset.shape[1], dataset.shape[2])\n",
        "  return result\n",
        "\n",
        "degree = 30\n",
        "test_images_rotated = rotate_dataset(test_images, degree)\n",
        "\n",
        "plt.rcParams[\"figure.figsize\"] = (6,4)\n",
        "### START CODE HERE ###\n",
        "\n",
        "### END CODE HERE ###\n",
        "\n",
        "\n",
        "### START CODE HERE ###\n",
        "\n",
        "### END CODE HERE ###\n"
      ],
      "execution_count": null,
      "outputs": []
    },
    {
      "cell_type": "markdown",
      "metadata": {
        "id": "_E7p3VdVQs7z"
      },
      "source": [
        "## Evaluate on All Degrees"
      ]
    },
    {
      "cell_type": "code",
      "metadata": {
        "id": "ZnKonmm7USX1"
      },
      "source": [
        "acc = []\n",
        "\n",
        "for d in range(0,360,10):\n",
        "  r = rotate_dataset(test_images, d)\n",
        "  _, tacc = model.evaluate(r, test_labels, verbose=1)\n",
        "  print(tacc)\n",
        "  acc = np.append(acc, tacc)"
      ],
      "execution_count": null,
      "outputs": []
    },
    {
      "cell_type": "code",
      "metadata": {
        "id": "BadA0hdOhLnJ"
      },
      "source": [
        "theta = np.arange(0, 360, 10)/180 * math.pi\n",
        "ref = np.ones_like(theta)*test_acc\n",
        "\n",
        "fig, ax = plt.subplots(subplot_kw={'projection': 'polar'})\n",
        "ax.plot(theta, ref, label='Reference')\n",
        "ax.plot(theta, acc, label='Vanilla')\n",
        "ax.set_rmin(0)\n",
        "ax.set_theta_zero_location(\"N\")\n",
        "ax.set_rmax(1.0)\n",
        "ax.grid(True)\n",
        "\n",
        "ax.legend()\n",
        "ax.set_title(\"Accuracy\", va='bottom')\n",
        "plt.show()"
      ],
      "execution_count": null,
      "outputs": []
    },
    {
      "cell_type": "markdown",
      "metadata": {
        "id": "GptMOg8yQec8"
      },
      "source": [
        "## Freeze the Model"
      ]
    },
    {
      "cell_type": "code",
      "metadata": {
        "id": "0ZSDajOpOiQh"
      },
      "source": [
        "model.trainable = False\n",
        "\n",
        "model.summary()"
      ],
      "execution_count": null,
      "outputs": []
    },
    {
      "cell_type": "markdown",
      "metadata": {
        "id": "UuB3Q7J-osYX"
      },
      "source": [
        "# Transfer Learning. Re-training the model for X degree. Update all parameters."
      ]
    },
    {
      "cell_type": "code",
      "metadata": {
        "id": "XQddrTwFn8Jy"
      },
      "source": [
        "degree = 10\n",
        "\n",
        "train_images2 = rotate_dataset(train_images, degree)\n",
        "\n",
        "test_loss_rotated, test_acc_rotated = model.evaluate(train_images2, train_labels, verbose=0)\n",
        "print('Test accuracy on the original model:', test_acc_rotated)\n",
        "\n",
        "model2 = keras.models.clone_model(model)\n",
        "model2.trainable = True\n",
        "print(model2.summary())\n",
        "\n",
        "model2.compile(optimizer='adam', loss='sparse_categorical_crossentropy', metrics=['accuracy'])\n",
        "\n",
        "history2 = model2.fit(train_images2, train_labels, epochs=10, validation_split=0.1, batch_size=32)"
      ],
      "execution_count": null,
      "outputs": []
    },
    {
      "cell_type": "code",
      "metadata": {
        "id": "gUvu4NkHXmiN"
      },
      "source": [
        "test_images_rotated = rotate_dataset(test_images, degree)\n",
        "\n",
        "# old model\n",
        "print(\"model:\")\n",
        "_, test_acc_rotated = model.evaluate(test_images,  test_labels, verbose=0)\n",
        "print('Test accuracy 0 degrees:', test_acc_rotated)\n",
        "\n",
        "_, test_acc_rotated = model.evaluate(test_images_rotated,  test_labels, verbose=0)\n",
        "print('Test accuracy rotated:', test_acc_rotated)\n",
        "\n",
        "# new model2\n",
        "print(\"model2:\")\n",
        "_, test_acc_rotated = model2.evaluate(test_images,  test_labels, verbose=0)\n",
        "print('Test accuracy 0 degrees:', test_acc_rotated)\n",
        "\n",
        "_, test_acc_rotated = model2.evaluate(test_images_rotated,  test_labels, verbose=0)\n",
        "print('Test accuracy rotated:', test_acc_rotated)"
      ],
      "execution_count": null,
      "outputs": []
    },
    {
      "cell_type": "code",
      "metadata": {
        "id": "O39q_HO1WD-8"
      },
      "source": [
        "acc2 = []\n",
        "\n",
        "for d in range(0,360,10):\n",
        "  r = rotate_dataset(test_images, d)\n",
        "  _, tacc = model2.evaluate(r, test_labels, verbose=1)\n",
        "  print(tacc)\n",
        "  acc2 = np.append(acc2, tacc)\n"
      ],
      "execution_count": null,
      "outputs": []
    },
    {
      "cell_type": "code",
      "metadata": {
        "id": "sN_LAOtlW7pV"
      },
      "source": [
        "theta = np.arange(0, 360, 10)/180 * math.pi\n",
        "ref = np.ones_like(theta)*test_acc\n",
        "\n",
        "fig, ax = plt.subplots(subplot_kw={'projection': 'polar'})\n",
        "ax.plot(theta, ref, label='Reference')\n",
        "ax.plot(theta, acc, label='Vanilla')\n",
        "ax.plot(theta, acc2, label='TL Full')\n",
        "ax.set_rmin(0)\n",
        "ax.set_theta_zero_location(\"N\")\n",
        "ax.set_rmax(1.0)\n",
        "ax.grid(True)\n",
        "\n",
        "ax.legend()\n",
        "ax.set_title(\"Accuracy\", va='bottom')\n",
        "plt.show()"
      ],
      "execution_count": null,
      "outputs": []
    },
    {
      "cell_type": "markdown",
      "metadata": {
        "id": "iXJKd_5dAHZq"
      },
      "source": [
        "# Transfer Learning. Re-training the model for X degree. Update head."
      ]
    },
    {
      "cell_type": "code",
      "metadata": {
        "id": "duTJOnpivQqB"
      },
      "source": [
        "# chop off model's head\n",
        "base = keras.Model(model.input, model.get_layer('baselayer').output)\n",
        "print(base.summary())\n",
        "\n",
        "x = base.output\n",
        "# x = keras.layers.Conv2D(120, (5, 5), kernel_initializer='he_uniform', activation='relu')(x)\n",
        "# x = keras.layers.Flatten()(x)\n",
        "# x = keras.layers.Dense(84, activation='relu')(x)\n",
        "head = keras.layers.Dense(10, tf.nn.softmax)(x)\n",
        "model3 = keras.Model(inputs = base.input, outputs = head)\n",
        "model3.summary()"
      ],
      "execution_count": null,
      "outputs": []
    },
    {
      "cell_type": "code",
      "metadata": {
        "id": "WojvyE2AvdXD"
      },
      "source": [
        "model3.compile(optimizer='adam', loss='sparse_categorical_crossentropy', metrics=['accuracy'])"
      ],
      "execution_count": null,
      "outputs": []
    },
    {
      "cell_type": "code",
      "metadata": {
        "id": "9GpPF4SYxKTu"
      },
      "source": [
        "degree = 10\n",
        "\n",
        "train_images3 = rotate_dataset(train_images, degree)\n",
        "\n",
        "_, test_acc_rotated = model.evaluate(train_images3, train_labels, verbose=0)\n",
        "print('Test accuracy on the original model:', test_acc_rotated)\n",
        "\n",
        "model3.compile(optimizer='adam', loss='sparse_categorical_crossentropy', metrics=['accuracy'])\n",
        "\n",
        "history3 = model3.fit(train_images3, train_labels, epochs=10, validation_split=0.1, batch_size=32)"
      ],
      "execution_count": null,
      "outputs": []
    },
    {
      "cell_type": "code",
      "metadata": {
        "id": "xKcwQIW7B3mr"
      },
      "source": [
        "test_images_rotated = rotate_dataset(test_images, degree)\n",
        "\n",
        "# old model\n",
        "print(\"model:\")\n",
        "_, test_acc_rotated = model.evaluate(test_images,  test_labels, verbose=0)\n",
        "print('Test accuracy 0 degrees:', test_acc_rotated)\n",
        "\n",
        "_, test_acc_rotated = model.evaluate(test_images_rotated,  test_labels, verbose=0)\n",
        "print('Test accuracy rotated:', test_acc_rotated)\n",
        "\n",
        "# new model3\n",
        "print(\"model3:\")\n",
        "_, test_acc_rotated = model3.evaluate(test_images,  test_labels, verbose=0)\n",
        "print('Test accuracy 0 degrees:', test_acc_rotated)\n",
        "\n",
        "_, test_acc_rotated = model3.evaluate(test_images_rotated,  test_labels, verbose=0)\n",
        "print('Test accuracy rotated:', test_acc_rotated)"
      ],
      "execution_count": null,
      "outputs": []
    },
    {
      "cell_type": "code",
      "metadata": {
        "id": "B9kJ-Px-C2f6"
      },
      "source": [
        "acc3 = []\n",
        "\n",
        "for d in range(0,360,10):\n",
        "  r = rotate_dataset(test_images, d)\n",
        "  _, tacc = model3.evaluate(r, test_labels, verbose=1)\n",
        "  print(tacc)\n",
        "  acc3 = np.append(acc3, tacc)\n"
      ],
      "execution_count": null,
      "outputs": []
    },
    {
      "cell_type": "code",
      "metadata": {
        "id": "ZFLyJmTIDB0E"
      },
      "source": [
        "theta = np.arange(0, 360, 10)/180 * math.pi\n",
        "ref = np.ones_like(theta)*test_acc\n",
        "\n",
        "fig, ax = plt.subplots(subplot_kw={'projection': 'polar'})\n",
        "ax.plot(theta, ref, label='Reference')\n",
        "ax.plot(theta, acc, label='Vanilla')\n",
        "ax.plot(theta, acc2, label='TL Full')\n",
        "ax.plot(theta, acc3, label='TL Last Layer')\n",
        "ax.set_rmin(0)\n",
        "ax.set_theta_zero_location(\"N\")\n",
        "ax.set_rmax(1.0)\n",
        "ax.grid(True)\n",
        "\n",
        "ax.legend()\n",
        "ax.set_title(\"Accuracy\", va='bottom')\n",
        "plt.show()"
      ],
      "execution_count": null,
      "outputs": []
    },
    {
      "cell_type": "markdown",
      "metadata": {
        "id": "owGcZ-5t4VUR"
      },
      "source": [
        "# Train a Model for All Degrees"
      ]
    },
    {
      "cell_type": "code",
      "metadata": {
        "id": "coMI88foFOWb"
      },
      "source": [
        "model4 = keras.Sequential([\n",
        "  # factor=(-0.5,0.5) = +- 180 degrees\n",
        "  keras.layers.RandomRotation(factor=(-0.5,0.5), interpolation= \"nearest\", input_shape=(28, 28,1)),\n",
        "  keras.layers.Conv2D(6, (5, 5), padding='same', activation='relu',kernel_initializer='he_uniform', input_shape=(28, 28,1)),\n",
        "  keras.layers.MaxPooling2D(pool_size=(2, 2)),\n",
        "  keras.layers.Conv2D(32, (5, 5), kernel_initializer='he_uniform', activation='relu'),\n",
        "  keras.layers.Dropout(0.1),\n",
        "  keras.layers.MaxPooling2D(pool_size=(2, 2)),\n",
        "  keras.layers.Dropout(0.1, name=\"baselayer\"),\n",
        "  keras.layers.Conv2D(120, (5, 5), kernel_initializer='he_uniform', activation='relu'),\n",
        "  keras.layers.Flatten(),\n",
        "  keras.layers.Dense(84, activation='relu'),\n",
        "  keras.layers.Dense(10, activation=tf.nn.softmax)\n",
        "])\n",
        "\n",
        "model4.compile(optimizer='adam', loss='sparse_categorical_crossentropy', metrics=['accuracy'])\n",
        "\n",
        "history4 = model4.fit(train_images, train_labels, epochs=10, validation_split=0.1, batch_size=32)\n",
        "print(model4.summary())"
      ],
      "execution_count": null,
      "outputs": []
    },
    {
      "cell_type": "code",
      "metadata": {
        "id": "5TCiTK_rHoEi"
      },
      "source": [
        "acc4 = []\n",
        "\n",
        "for d in range(0,360,10):\n",
        "  r = rotate_dataset(test_images, d)\n",
        "  _, tacc = model4.evaluate(r, test_labels, verbose=1)\n",
        "  print(tacc)\n",
        "  acc4 = np.append(acc4, tacc)\n"
      ],
      "execution_count": null,
      "outputs": []
    },
    {
      "cell_type": "code",
      "metadata": {
        "id": "rfgFaTy9Gy5l"
      },
      "source": [
        "theta = np.arange(0, 360, 10)/180 * math.pi\n",
        "ref = np.ones_like(theta)*test_acc\n",
        "\n",
        "fig, ax = plt.subplots(subplot_kw={'projection': 'polar'})\n",
        "ax.plot(theta, ref, label='Reference')\n",
        "ax.plot(theta, acc, label='Vanilla')\n",
        "ax.plot(theta, acc2, label='TL Full')\n",
        "ax.plot(theta, acc3, label='TL Last Layer')\n",
        "ax.plot(theta, acc4, label='All degrees')\n",
        "ax.set_rmin(0)\n",
        "ax.set_theta_zero_location(\"N\")\n",
        "ax.set_rmax(1.0)\n",
        "ax.grid(True)\n",
        "\n",
        "ax.legend()\n",
        "ax.set_title(\"Accuracy\", va='bottom')\n",
        "plt.show()"
      ],
      "execution_count": null,
      "outputs": []
    },
    {
      "cell_type": "code",
      "metadata": {
        "id": "MBypPTKVH1Fi"
      },
      "source": [],
      "execution_count": null,
      "outputs": []
    }
  ]
}