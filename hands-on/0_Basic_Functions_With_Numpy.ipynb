{
  "nbformat": 4,
  "nbformat_minor": 0,
  "metadata": {
    "coursera": {
      "course_slug": "neural-networks-deep-learning",
      "graded_item_id": "XHpfv",
      "launcher_item_id": "Zh0CU"
    },
    "kernelspec": {
      "display_name": "Python 3",
      "language": "python",
      "name": "python3"
    },
    "language_info": {
      "codemirror_mode": {
        "name": "ipython",
        "version": 3
      },
      "file_extension": ".py",
      "mimetype": "text/x-python",
      "name": "python",
      "nbconvert_exporter": "python",
      "pygments_lexer": "ipython3",
      "version": "3.5.2"
    },
    "colab": {
      "provenance": []
    }
  },
  "cells": [
    {
      "cell_type": "markdown",
      "metadata": {
        "id": "cHXp04noWwp8"
      },
      "source": [
        "# Basic Functions with Numpy\n",
        "\n",
        "This exercise gives a brief introduction to Python and [NumPy](https://numpy.org). Even if you've used Python before, this will help familiarize you with functions we'll need.\n",
        "\n",
        "**Goals:**\n",
        "- Be able to use iPython Notebooks\n",
        "- Be able to use numpy functions and numpy matrix/vector operations\n",
        "- Understand the concept of \"broadcasting\"\n",
        "- Be able to vectorize code\n",
        "\n",
        "iPython Notebooks are interactive coding environments embedded in a webpage.\n",
        "You will use iPython notebooks on Google Colab in this class."
      ]
    },
    {
      "cell_type": "markdown",
      "metadata": {
        "id": "TWPc06BIWwqF"
      },
      "source": [
        "## 1 - Basic functions ##\n",
        "\n",
        "Numpy is the main package for scientific computing in Python. It is maintained by a large community (www.numpy.org). In this exercise you will learn several key numpy functions such as `np.exp()`, `np.log()`, and `np.reshape()`."
      ]
    },
    {
      "cell_type": "markdown",
      "metadata": {
        "id": "M2hxZy4Zc-02"
      },
      "source": [
        "### 1.1 - Sigmoid function ###\n",
        "\n",
        "Before using `np.exp()`, you will use `math.exp()` to implement the sigmoid function. You will then see why `np.exp()` is preferable to `math.exp()`.\n",
        "\n",
        "**Exercise**: Build a function that returns the sigmoid of a real number x. Use `math.exp(x)` for the exponential function.\n",
        "\n",
        "**Reminder**:\n",
        "$sigmoid(x) = \\frac{1}{1+e^{-x}}$ is sometimes also known as the logistic function. It is a non-linear function used not only in Machine Learning (Logistic Regression), but also in Deep Learning.\n",
        "\n",
        "<img src=\"https://upload.wikimedia.org/wikipedia/commons/thumb/5/53/Sigmoid-function-2.svg/2880px-Sigmoid-function-2.svg.png\">\n"
      ]
    },
    {
      "cell_type": "code",
      "metadata": {
        "collapsed": true,
        "id": "X38qbAcxWwqF"
      },
      "source": [
        "import math\n",
        "\n",
        "def basic_sigmoid(x):\n",
        "    \"\"\"\n",
        "    Compute sigmoid of x.\n",
        "    Arguments: x -- A scalar\n",
        "    Return: s -- sigmoid(x)\n",
        "    \"\"\"\n",
        "\n",
        "    ### START CODE HERE ###\n",
        "    s = None\n",
        "    ### END CODE HERE ###\n",
        "\n",
        "    return s"
      ],
      "execution_count": null,
      "outputs": []
    },
    {
      "cell_type": "code",
      "metadata": {
        "id": "0l-YUxT9WwqG"
      },
      "source": [
        "basic_sigmoid(3)"
      ],
      "execution_count": null,
      "outputs": []
    },
    {
      "cell_type": "markdown",
      "metadata": {
        "id": "xAH_BBNeWwqG"
      },
      "source": [
        "Actually, we rarely use the \"math\" library in deep learning because the inputs of the functions are real numbers. In deep learning we mostly use matrices and vectors. This is why numpy is more useful."
      ]
    },
    {
      "cell_type": "code",
      "metadata": {
        "id": "rP4jmBV6WwqH"
      },
      "source": [
        "x = [1, 2, 3]\n",
        "basic_sigmoid(x) # you will see this give an error when you run it, because x is a vector."
      ],
      "execution_count": null,
      "outputs": []
    },
    {
      "cell_type": "markdown",
      "metadata": {
        "id": "IpgZg8laWwqH"
      },
      "source": [
        "In fact, if $ x = (x_1, x_2, ..., x_n)$ is a row vector then $np.exp(x)$ will apply the exponential function to every element of x. The output will thus be: $np.exp(x) = (e^{x_1}, e^{x_2}, ..., e^{x_n})$"
      ]
    },
    {
      "cell_type": "code",
      "metadata": {
        "id": "DWR4Y2JoWwqH"
      },
      "source": [
        "import numpy as np\n",
        "\n",
        "x = np.array([1, 2, 3])\n",
        "print(np.exp(x)) # result is (exp(1), exp(2), exp(3))"
      ],
      "execution_count": null,
      "outputs": []
    },
    {
      "cell_type": "markdown",
      "metadata": {
        "id": "sORMXMz0WwqI"
      },
      "source": [
        "Furthermore, if x is a vector, then a Python operation such as $s = x + 3$ or $s = \\frac{1}{x}$ will output s as a vector of the same size as x."
      ]
    },
    {
      "cell_type": "code",
      "metadata": {
        "id": "9TGpBpaCWwqI"
      },
      "source": [
        "# example of vector operation\n",
        "x = np.array([1, 2, 3])\n",
        "print (x + 3)"
      ],
      "execution_count": null,
      "outputs": []
    },
    {
      "cell_type": "markdown",
      "metadata": {
        "id": "OHL8rczfWwqJ"
      },
      "source": [
        "Any time you need more info on a numpy function, we encourage you to look at [the official documentation](https://docs.scipy.org/doc/numpy-1.10.1/reference/generated/numpy.exp.html).\n",
        "\n",
        "**Exercise**: Implement the sigmoid function using numpy.\n",
        "\n",
        "x could now be either a real number, a vector, or a matrix. The data structures we use in numpy to represent these shapes (vectors, matrices...) are called numpy arrays.\n",
        "\n",
        "$$ \\text{For } x \\in \\mathbb{R}^n \\text{,     } sigmoid(x) = sigmoid\\begin{pmatrix}\n",
        "    x_1  \\\\\n",
        "    x_2  \\\\\n",
        "    ...  \\\\\n",
        "    x_n  \\\\\n",
        "\\end{pmatrix} = \\begin{pmatrix}\n",
        "    \\frac{1}{1+e^{-x_1}}  \\\\\n",
        "    \\frac{1}{1+e^{-x_2}}  \\\\\n",
        "    ...  \\\\\n",
        "    \\frac{1}{1+e^{-x_n}}  \\\\\n",
        "\\end{pmatrix}\\tag{1} $$"
      ]
    },
    {
      "cell_type": "code",
      "metadata": {
        "id": "_bQwTHFlWwqJ"
      },
      "source": [
        "import numpy as np\n",
        "\n",
        "def sigmoid(x):\n",
        "    \"\"\"\n",
        "    Compute the sigmoid of x\n",
        "    Arguments: x -- A scalar or numpy array of any size\n",
        "    Return: s -- sigmoid(x)\n",
        "    \"\"\"\n",
        "\n",
        "    ### START CODE HERE ###\n",
        "    s = None\n",
        "    ### END CODE HERE ###\n",
        "\n",
        "    return s"
      ],
      "execution_count": null,
      "outputs": []
    },
    {
      "cell_type": "code",
      "metadata": {
        "id": "SrKolxKqWwqK"
      },
      "source": [
        "x = np.array([1, 2, 3])\n",
        "sigmoid(x)"
      ],
      "execution_count": null,
      "outputs": []
    },
    {
      "cell_type": "markdown",
      "metadata": {
        "id": "ooV6vyjyWwqL"
      },
      "source": [
        "### 1.2 - Sigmoid gradient\n",
        "\n",
        "In deep learning, you need to compute gradients to optimize loss functions using backpropagation.\n",
        "\n",
        "**Exercise**: Implement the function `sigmoid_grad()` to compute the gradient of the sigmoid function with respect to its input `x`. The formula is:\n",
        "\n",
        "$$sigmoid\\_grad(x) = \\sigma'(x) = \\sigma(x) (1 - \\sigma(x))\\tag{2}$$.\n",
        "\n",
        "You might find your `sigmoid(x)` function useful."
      ]
    },
    {
      "cell_type": "code",
      "metadata": {
        "id": "ERKI0ETNWwqL"
      },
      "source": [
        "def sigmoid_grad(x):\n",
        "    \"\"\"\n",
        "    Compute the gradient (also called the slope or derivative) of the sigmoid function with respect to its input x.\n",
        "    You can store the output of the sigmoid function into variables and then use it to calculate the gradient.\n",
        "\n",
        "    Arguments: x -- A scalar or numpy array\n",
        "    Return: ds -- Your computed gradient.\n",
        "    \"\"\"\n",
        "\n",
        "    ### START CODE HERE ###\n",
        "    s = None\n",
        "    ds = None\n",
        "    ### END CODE HERE ###\n",
        "\n",
        "    return ds"
      ],
      "execution_count": null,
      "outputs": []
    },
    {
      "cell_type": "code",
      "metadata": {
        "id": "RUzCr-NoWwqM"
      },
      "source": [
        "x = np.array([1, 2, 3])\n",
        "print (\"sigmoid_grad(x) = \" + str(sigmoid_grad(x)))"
      ],
      "execution_count": null,
      "outputs": []
    },
    {
      "cell_type": "markdown",
      "metadata": {
        "id": "61G-3W7hWwqN"
      },
      "source": [
        "### 1.3 - Reshaping arrays ###\n",
        "\n",
        "Two common numpy functions used in deep learning are [np.shape](https://docs.scipy.org/doc/numpy/reference/generated/numpy.ndarray.shape.html) and [np.reshape()](https://docs.scipy.org/doc/numpy/reference/generated/numpy.reshape.html).\n",
        "- X.shape is used to get the shape (dimension) of a matrix/vector X.\n",
        "- X.reshape(...) is used to reshape X into some other dimension.\n",
        "\n",
        "For example, in computer science, an image is represented by a 3D array of shape $(length, height, depth = 3)$. However, when you read an image as the input of an algorithm you convert it to a vector of shape $(length*height*3, 1)$. In other words, you \"unroll\", or reshape, the 3D array into a 1D vector.\n",
        "\n",
        "<img src=\"https://miro.medium.com/max/2000/1*CSzLzsw3fC6_cE1VOuTFCA.png\" style=\"width:500px;height:300;\">\n",
        "\n",
        "**Exercise**: Implement `image2vector()` that takes an input of shape (length, height, 3) and returns a vector of shape (length\\*height\\*3, 1)."
      ]
    },
    {
      "cell_type": "code",
      "metadata": {
        "id": "PLFI-a1UWwqN"
      },
      "source": [
        "def image2vector(image):\n",
        "    \"\"\"\n",
        "    Argument: image -- a numpy array of shape (length, height, depth)\n",
        "    Returns: v -- a vector of shape (length*height*depth, 1)\n",
        "    \"\"\"\n",
        "\n",
        "    ### START CODE HERE\n",
        "    v = None\n",
        "    ### END CODE HERE ###\n",
        "\n",
        "    return v"
      ],
      "execution_count": null,
      "outputs": []
    },
    {
      "cell_type": "code",
      "metadata": {
        "id": "VApwWGh6WwqN"
      },
      "source": [
        "# This is a 3 by 3 by 2 array, where 3 represents the RGB values\n",
        "image = np.array([[[ 0.67826139,  0.29380381],\n",
        "        [ 0.90714982,  0.52835647],\n",
        "        [ 0.4215251 ,  0.45017551]],\n",
        "\n",
        "       [[ 0.92814219,  0.96677647],\n",
        "        [ 0.85304703,  0.52351845],\n",
        "        [ 0.19981397,  0.27417313]],\n",
        "\n",
        "       [[ 0.60659855,  0.00533165],\n",
        "        [ 0.10820313,  0.49978937],\n",
        "        [ 0.34144279,  0.94630077]]])\n",
        "\n",
        "print (\"image2vector(image) = \" + str(image2vector(image)))"
      ],
      "execution_count": null,
      "outputs": []
    },
    {
      "cell_type": "markdown",
      "metadata": {
        "id": "aguFaZFoWwqO"
      },
      "source": [
        "### 1.4 - Normalizing rows\n",
        "\n",
        "Another common technique we use in Machine Learning and Deep Learning is to normalize our data. It often leads to a better performance because gradient descent converges faster after normalization. Here, by normalization we mean changing x to $ \\frac{x}{\\| x\\|} $ (dividing each row vector of x by its norm).\n",
        "\n",
        "For example, if $$x =\n",
        "\\begin{bmatrix}\n",
        "    0 & 3 & 4 \\\\\n",
        "    2 & 6 & 4 \\\\\n",
        "\\end{bmatrix}\\tag{3}$$ then $$\\| x\\| = np.linalg.norm(x, axis = 1, keepdims = True) = \\begin{bmatrix}\n",
        "    5 \\\\\n",
        "    \\sqrt{56} \\\\\n",
        "\\end{bmatrix}\\tag{4} $$and        $$ x\\_normalized = \\frac{x}{\\| x\\|} = \\begin{bmatrix}\n",
        "    0 & \\frac{3}{5} & \\frac{4}{5} \\\\\n",
        "    \\frac{2}{\\sqrt{56}} & \\frac{6}{\\sqrt{56}} & \\frac{4}{\\sqrt{56}} \\\\\n",
        "\\end{bmatrix}\\tag{5}$$ Note that you can divide matrices of different sizes and it works fine: this is called *broadcasting*.\n",
        "\n",
        "\n",
        "**Exercise**: Implement `normalizeRows()` to normalize the rows of a matrix. After applying this function to an input matrix `x`, each row of `x` should be a vector of unit length (meaning length 1)."
      ]
    },
    {
      "cell_type": "code",
      "metadata": {
        "id": "wEmozF0XWwqO"
      },
      "source": [
        "def normalizeRows(x):\n",
        "    \"\"\"\n",
        "    Implement a function that normalizes each row of the matrix x (to have unit length).\n",
        "\n",
        "    Argument: x -- A numpy matrix of shape (n, m)\n",
        "    Returns: x -- The normalized (by row) numpy matrix. You are allowed to modify x.\n",
        "    \"\"\"\n",
        "\n",
        "    ### START CODE HERE ###\n",
        "    # Compute x_norm as the norm 2 of x. Use np.linalg.norm(..., ord = 2, axis = ..., keepdims = True)\n",
        "    print(\"x shape= \" + str(x.shape))\n",
        "    x_norm = None\n",
        "    print(\"x_norm shape= \" + str(x_norm.shape))\n",
        "    # Divide x by its norm.\n",
        "    x = None\n",
        "    ### END CODE HERE ###\n",
        "\n",
        "    return x"
      ],
      "execution_count": null,
      "outputs": []
    },
    {
      "cell_type": "code",
      "metadata": {
        "id": "RioR7ts_WwqO"
      },
      "source": [
        "x = np.array([\n",
        "    [0, 3, 4],\n",
        "    [1, 6, 4]])\n",
        "print(\"normalizeRows(x) = \" + str(normalizeRows(x)))"
      ],
      "execution_count": null,
      "outputs": []
    },
    {
      "cell_type": "markdown",
      "metadata": {
        "id": "lvGyFqOBWwqR"
      },
      "source": [
        "### 1.5 - Broadcasting and the softmax function ####\n",
        "A very important concept to understand in numpy is \"broadcasting\". It is very useful for performing mathematical operations between arrays of different shapes. For the full details on broadcasting, you can read the official [broadcasting documentation](http://docs.scipy.org/doc/numpy/user/basics.broadcasting.html)."
      ]
    },
    {
      "cell_type": "markdown",
      "metadata": {
        "id": "H8kYM5w8WwqS"
      },
      "source": [
        "**Exercise**: Implement a softmax function using numpy. You can think of softmax as a normalizing function used when your algorithm needs to classify two or more classes.\n",
        "\n",
        "- $ \\text{for } x \\in \\mathbb{R}^{1\\times n} \\text{,     } softmax(x) = softmax(\\begin{bmatrix}\n",
        "    x_1  &&\n",
        "    x_2 &&\n",
        "    ...  &&\n",
        "    x_n  \n",
        "\\end{bmatrix}) = \\begin{bmatrix}\n",
        "     \\frac{e^{x_1}}{\\sum_{j}e^{x_j}}  &&\n",
        "    \\frac{e^{x_2}}{\\sum_{j}e^{x_j}}  &&\n",
        "    ...  &&\n",
        "    \\frac{e^{x_n}}{\\sum_{j}e^{x_j}}\n",
        "\\end{bmatrix} $\n",
        "\n",
        "- $\\text{for a matrix } x \\in \\mathbb{R}^{m \\times n} \\text{,  $x_{ij}$ maps to the element in the $i^{th}$ row and $j^{th}$ column of $x$, thus we have: }$  $$softmax(x) = softmax\\begin{bmatrix}\n",
        "    x_{11} & x_{12} & x_{13} & \\dots  & x_{1n} \\\\\n",
        "    x_{21} & x_{22} & x_{23} & \\dots  & x_{2n} \\\\\n",
        "    \\vdots & \\vdots & \\vdots & \\ddots & \\vdots \\\\\n",
        "    x_{m1} & x_{m2} & x_{m3} & \\dots  & x_{mn}\n",
        "\\end{bmatrix} = \\begin{bmatrix}\n",
        "    \\frac{e^{x_{11}}}{\\sum_{j}e^{x_{1j}}} & \\frac{e^{x_{12}}}{\\sum_{j}e^{x_{1j}}} & \\frac{e^{x_{13}}}{\\sum_{j}e^{x_{1j}}} & \\dots  & \\frac{e^{x_{1n}}}{\\sum_{j}e^{x_{1j}}} \\\\\n",
        "    \\frac{e^{x_{21}}}{\\sum_{j}e^{x_{2j}}} & \\frac{e^{x_{22}}}{\\sum_{j}e^{x_{2j}}} & \\frac{e^{x_{23}}}{\\sum_{j}e^{x_{2j}}} & \\dots  & \\frac{e^{x_{2n}}}{\\sum_{j}e^{x_{2j}}} \\\\\n",
        "    \\vdots & \\vdots & \\vdots & \\ddots & \\vdots \\\\\n",
        "    \\frac{e^{x_{m1}}}{\\sum_{j}e^{x_{mj}}} & \\frac{e^{x_{m2}}}{\\sum_{j}e^{x_{mj}}} & \\frac{e^{x_{m3}}}{\\sum_{j}e^{x_{mj}}} & \\dots  & \\frac{e^{x_{mn}}}{\\sum_{j}e^{x_{mj}}}\n",
        "\\end{bmatrix} = \\begin{pmatrix}\n",
        "    softmax\\text{(first row of x)}  \\\\\n",
        "    softmax\\text{(second row of x)} \\\\\n",
        "    ...  \\\\\n",
        "    softmax\\text{(last row of x)} \\\\\n",
        "\\end{pmatrix} $$"
      ]
    },
    {
      "cell_type": "code",
      "metadata": {
        "id": "uo02L53mWwqT"
      },
      "source": [
        "def softmax(x):\n",
        "    \"\"\"Calculates the softmax for each row of the input x.\n",
        "\n",
        "    Your code should work for a row vector and also for matrices of shape (n, m).\n",
        "\n",
        "    Argument: x -- A numpy matrix of shape (n,m)\n",
        "    Returns: s -- A numpy matrix equal to the softmax of x, of shape (n,m)\n",
        "    \"\"\"\n",
        "\n",
        "    ### START CODE HERE ###\n",
        "    # Apply exp() element-wise to x. Use np.exp(...).\n",
        "\n",
        "    print(\"x shape= \"+ str(x.shape))\n",
        "\n",
        "    x_exp = None\n",
        "    print(\"x_exp shape= \"+ str(x_exp.shape))\n",
        "\n",
        "    # Create a vector x_sum that sums each row of x_exp. Use np.sum(..., axis = 1, keepdims = True).\n",
        "    x_sum = None\n",
        "    print(\"x_sum shape= \"+ str(x_sum.shape))\n",
        "\n",
        "    # Compute softmax(x) by dividing x_exp by x_sum. It should automatically use numpy broadcasting.\n",
        "    s = None\n",
        "    print(\"s shape= \"+ str(s.shape))\n",
        "\n",
        "    ### END CODE HERE ###\n",
        "\n",
        "    return s"
      ],
      "execution_count": null,
      "outputs": []
    },
    {
      "cell_type": "code",
      "metadata": {
        "id": "MYBZA8rgWwqU"
      },
      "source": [
        "x = np.array([\n",
        "    [9, 2, 5, 0, 0],\n",
        "    [7, 5, 0, 0 ,0]])\n",
        "print(\"softmax(x) = \" + str(softmax(x)))"
      ],
      "execution_count": null,
      "outputs": []
    },
    {
      "cell_type": "markdown",
      "metadata": {
        "collapsed": true,
        "id": "8n39BuHAWwqV"
      },
      "source": [
        "## 2 - Vectorization"
      ]
    },
    {
      "cell_type": "markdown",
      "metadata": {
        "id": "592mYEB0WwqW"
      },
      "source": [
        "\n",
        "In deep learning, you deal with very large datasets. Hence, a non-computationally-optimal function can become a huge bottleneck in your algorithm and can result in a model that takes ages to run. To make sure that your code is  computationally efficient, you will use vectorization. For example, try to tell the difference between the following implementations of the dot/outer/elementwise product.\n",
        "\n",
        "For vectors $\\mathbf{a}=\\{a_1, a_2, \\dots, a_n\\}$ and $\\mathbf{b}=\\{b_1, b_2, \\dots, b_n\\}$, *dot product* (also known as *inner product*) is defined as:\n",
        "\n",
        "$$ \\mathbf{a} \\cdot \\mathbf{b} = a_1b_1 + a_2b_2 + \\dots + a_nb_n$$\n",
        "\n",
        "*Outer product* of two vectors is a matrix:\n",
        "\n",
        "$$ {\\mathbf{a} \\otimes \\mathbf{b}}=\\left[\\begin{array}{cccc}\n",
        "a_{1} b_{1} & a_{1} b_{2} & \\cdots & a_{1} b_{m} \\\\\n",
        "a_{2} b_{1} & a_{2} b_{2} & \\cdots & a_{2} b_{m} \\\\\n",
        "\\vdots & \\vdots & \\ddots & \\vdots \\\\\n",
        "a_{n} b_{1} & a_{n} b_{2} & \\cdots & a_{n} b_{m}\n",
        "\\end{array}\\right]\n",
        "$$\n"
      ]
    },
    {
      "cell_type": "code",
      "metadata": {
        "id": "q1R5O2jQWwqW"
      },
      "source": [
        "import time\n",
        "\n",
        "x1 = [9, 2, 5, 0, 0, 7, 5, 0, 0, 0, 9, 2, 5, 0, 0]\n",
        "x2 = [9, 2, 2, 9, 0, 9, 2, 5, 0, 0, 9, 2, 5, 0, 0]\n",
        "\n",
        "### CLASSIC dot product of vectors ###\n",
        "tic = time.process_time()\n",
        "for X in range(10000):\n",
        "  dot = 0\n",
        "  for i in range(len(x1)):\n",
        "      dot+= x1[i]*x2[i]\n",
        "toc = time.process_time()\n",
        "print (\"dot = \" + str(dot) + \"\\n ----- Computation time = \" + str(1000*(toc - tic)) + \"ms\")\n",
        "\n",
        "### CLASSIC outer product ###\n",
        "tic = time.process_time()\n",
        "for X in range(10000):\n",
        "  outer = np.zeros((len(x1),len(x2))) # we create a len(x1)*len(x2) matrix with only zeros\n",
        "  for i in range(len(x1)):\n",
        "      for j in range(len(x2)):\n",
        "          outer[i,j] = x1[i]*x2[j]\n",
        "toc = time.process_time()\n",
        "print (\"outer = \" + str(outer) + \"\\n ----- Computation time = \" + str(1000*(toc - tic)) + \"ms\")\n",
        "\n",
        "### CLASSIC elementwise multiplication ###\n",
        "tic = time.process_time()\n",
        "for X in range(10000):\n",
        "  mul = np.zeros(len(x1))\n",
        "  for i in range(len(x1)):\n",
        "      mul[i] = x1[i]*x2[i]\n",
        "toc = time.process_time()\n",
        "print (\"elementwise multiplication = \" + str(mul) + \"\\n ----- Computation time = \" + str(1000*(toc - tic)) + \"ms\")\n"
      ],
      "execution_count": null,
      "outputs": []
    },
    {
      "cell_type": "code",
      "metadata": {
        "id": "zTq0rYslWwqX"
      },
      "source": [
        "x1 = [9, 2, 5, 0, 0, 7, 5, 0, 0, 0, 9, 2, 5, 0, 0]\n",
        "x2 = [9, 2, 2, 9, 0, 9, 2, 5, 0, 0, 9, 2, 5, 0, 0]\n",
        "\n",
        "### VECTORIZED dot product of vectors ###\n",
        "tic = time.process_time()\n",
        "for X in range(10000):\n",
        "  dot = np.dot(x1,x2)\n",
        "toc = time.process_time()\n",
        "print (\"dot = \" + str(dot) + \"\\n ----- Computation time = \" + str(1000*(toc - tic)) + \"ms\")\n",
        "\n",
        "### VECTORIZED outer product ###\n",
        "tic = time.process_time()\n",
        "for X in range(10000):\n",
        "  outer = np.outer(x1,x2)\n",
        "toc = time.process_time()\n",
        "print (\"outer = \" + str(outer) + \"\\n ----- Computation time = \" + str(1000*(toc - tic)) + \"ms\")\n",
        "\n",
        "### VECTORIZED elementwise multiplication ###\n",
        "tic = time.process_time()\n",
        "for X in range(10000):\n",
        "  mul = np.multiply(x1,x2)\n",
        "toc = time.process_time()\n",
        "print (\"elementwise multiplication = \" + str(mul) + \"\\n ----- Computation time = \" + str(1000*(toc - tic)) + \"ms\")\n"
      ],
      "execution_count": null,
      "outputs": []
    },
    {
      "cell_type": "markdown",
      "metadata": {
        "id": "GVrpj9vMWwqX"
      },
      "source": [
        "As you may have noticed, the vectorized implementation is much cleaner and more efficient. For bigger vectors/matrices, the differences in running time become even bigger.\n",
        "\n",
        "A lot of scaleable deep learning implementations are done on a GPU. But many of the demos we run in the Jupiter notebook are actually on a CPU. However, both GPU and CPU have parallelization instructions. They're sometimes called SIMD instructions. This stands for a *single instruction multiple data*. If you use built-in functions that don't require you explicitly implementing a `for` loop, it enables Phyton to take much better advantage of parallelism to do computations much faster."
      ]
    },
    {
      "cell_type": "markdown",
      "metadata": {
        "id": "p7apMHdvWwqX"
      },
      "source": [
        "### 2.1 Implement the L1 and L2 loss functions\n",
        "\n",
        "**Exercise**: Implement the numpy vectorized version of the L1 loss. You may find the function `abs(x)` (absolute value of `x`) useful.\n",
        "\n",
        "The loss is used to evaluate the performance of your model. The bigger your loss is, the more different your predictions ($ \\hat{y} $) are from the true values ($y$). In deep learning, you use optimization algorithms like Gradient Descent to train your model and to minimize the cost.\n",
        "\n",
        "L1 loss is defined as:\n",
        "$$\\begin{align*} & L_1(\\hat{y}, y) = \\sum_{i=0}^m|y^{(i)} - \\hat{y}^{(i)}| \\end{align*}\\tag{6}$$"
      ]
    },
    {
      "cell_type": "code",
      "metadata": {
        "id": "MxUsPT61WwqY"
      },
      "source": [
        "def L1(yhat, y):\n",
        "    \"\"\"\n",
        "    Arguments: yhat -- vector of size m (predicted labels)\n",
        "               y -- vector of size m (true labels)\n",
        "    Returns: loss -- the value of the L1 loss function defined above\n",
        "    \"\"\"\n",
        "\n",
        "    ### START CODE HERE ###\n",
        "    loss = None\n",
        "    ### END CODE HERE ###\n",
        "\n",
        "    return loss"
      ],
      "execution_count": null,
      "outputs": []
    },
    {
      "cell_type": "code",
      "metadata": {
        "id": "zFPfgzA3WwqY"
      },
      "source": [
        "yhat = np.array([.9, 0.2, 0.1, .4, .9])\n",
        "y = np.array([1, 0, 0, 1, 1])\n",
        "print(\"L1 = \" + str(L1(yhat,y)))"
      ],
      "execution_count": null,
      "outputs": []
    },
    {
      "cell_type": "markdown",
      "metadata": {
        "id": "uLJ6ZdnbWwqY"
      },
      "source": [
        "**Exercise**: Implement the numpy vectorized version of the L2 loss. There are several way of implementing the L2 loss but you may find the function np.dot() useful. As a reminder, if $x = [x_1, x_2, ..., x_n]$, then `np.dot(x,x)` = $\\sum_{j=0}^n x_j^{2}$.\n",
        "\n",
        "L2 loss is defined as $$\\begin{align*} & L_2(\\hat{y},y) = \\sum_{i=0}^m(y^{(i)} - \\hat{y}^{(i)})^2 \\end{align*}\\tag{7}$$"
      ]
    },
    {
      "cell_type": "code",
      "metadata": {
        "id": "Y7PqnRHwWwqY"
      },
      "source": [
        "def L2(yhat, y):\n",
        "    \"\"\"\n",
        "    Arguments: yhat -- vector of size m (predicted labels)\n",
        "               y -- vector of size m (true labels)\n",
        "    Returns: loss -- the value of the L2 loss function defined above\n",
        "    \"\"\"\n",
        "\n",
        "    ### START CODE HERE ### (≈ 1 line of code)\n",
        "    loss = None\n",
        "    ### END CODE HERE ###\n",
        "\n",
        "    return loss"
      ],
      "execution_count": null,
      "outputs": []
    },
    {
      "cell_type": "code",
      "metadata": {
        "id": "VMxSRVqFWwqZ"
      },
      "source": [
        "yhat = np.array([.9, 0.2, 0.1, .4, .9])\n",
        "y = np.array([1, 0, 0, 1, 1])\n",
        "print(\"L2 = \" + str(L2(yhat,y)))"
      ],
      "execution_count": null,
      "outputs": []
    }
  ]
}